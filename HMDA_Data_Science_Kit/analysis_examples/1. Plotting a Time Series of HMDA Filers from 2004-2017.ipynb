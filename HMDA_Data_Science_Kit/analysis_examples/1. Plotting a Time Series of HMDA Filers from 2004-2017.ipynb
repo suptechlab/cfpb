{
 "cells": [
  {
   "cell_type": "code",
   "execution_count": null,
   "metadata": {},
   "outputs": [],
   "source": [
    "import pandas as pd\n",
    "import psycopg2"
   ]
  },
  {
   "cell_type": "markdown",
   "metadata": {},
   "source": [
    "## Plotting a Time Series of HMDA Filers from 2004 - 2017"
   ]
  },
  {
   "cell_type": "markdown",
   "metadata": {},
   "source": [
    "\n",
    "### Scope of Notebook\n",
    "This notebook will demonstrate an approach to counting the number of institutions that have filed HMDA data from 2004-2017. While there are several approaches that can be used to do this, the code below will focus on counts taken from the Transmittal Sheet dataset inside the HMDA collections.\n",
    "\n",
    "The example will show how to pull Transmittal Sheet data from a local Postgres database, write the data to a pipe-delimited text file, and produce a graph in the Jupyter notebook as well as save the graph to a .png file.\n",
    "\n",
    "Additionally, more advanced methods using functions will be shown as an introduction to a library of functions that can be used to interact with the HMDA data.\n",
    "\n",
    "While these examples provide some commentary on the use of SQL and Python, they should not be considered a replacement for more full fledged tutorials on how to use these tools. \n",
    "\n",
    "### Setup Requirements\n",
    "In order to run this example locally several software packages need to be installed and configured. \n",
    "Please see [these instructions](https://github.com/Kibrael/HMDA_Data_Science_Kit#creating-postgres-tables-and-loading-data) to get a local Postgres database set up and populated with HMDA data. \n",
    "Please see [these instructions](https://github.com/Kibrael/HMDA_Data_Science_Kit#requirements) for setting up a Python development environment. Python 3.5 or higher is required as well as several libraries.\n",
    "\n",
    "\n",
    "### Python Libraries Used\n",
    "- [Pandas](https://pandas.pydata.org/pandas-docs/stable/): a data manipulation and analysis package.\n",
    "- [Psycopg2](http://initd.org/psycopg/docs/): a database driver library providing APIs for connecting Python to Postgres.\n",
    "- [Matplotlib](https://matplotlib.org/): a library to enable inline plotting with Pandas and Jupyter notebooks.\n",
    "- [Jupyter](http://jupyter.org/documentation): a development tool that supports multiple formats for display such as Markdown and Python. Allows segmentation of code into cells for easy data manipulation trials.\n",
    "\n",
    "### Approach\n",
    "This notebook will leverage Postgres SQL as a data store and aggregation tool. Python will be used to interact with the database through the Psycopg2 library. The Pandas library will be used for data handling after pulling from Postgres. This includes cleaning, analysis, and visualization with the Matplotlib library (which integrates with Pandas).\n",
    "\n",
    "The procss for this analysis will be:\n",
    "- Establish a connection to the database using psycopg2\n",
    "- Call a SQL file through Python to pull Transmittal Sheet counts by year\n",
    "- Load the data into a Pandas dataframe\n",
    "- Graph the data in the Jupyter notebook and save the graph to a .PNG file"
   ]
  },
  {
   "cell_type": "markdown",
   "metadata": {},
   "source": [
    "### Import Python Libraries\n",
    "\n"
   ]
  },
  {
   "cell_type": "code",
   "execution_count": null,
   "metadata": {},
   "outputs": [],
   "source": [
    "import psycopg2 #Imports the Psycopg2 library\n",
    "import pandas as pd #Imports the Pandas library and renames it \"pd\"\n",
    "import matplotlib.pyplot as plt #imports the Matplot library and renames it \"plt\""
   ]
  },
  {
   "cell_type": "markdown",
   "metadata": {},
   "source": [
    "### Connect to the Database\n",
    "The connection logic is best defined in a function which allows it to be reused multiple times.\n",
    "\n",
    "In order to use the connect function (defined below) some parameters must be passed to let the connection know the following:\n",
    "- the username\n",
    "- the password for the specified user\n",
    "- the database to be used\n",
    "- the host location of the database\n",
    "\n",
    "In this example we will use a locally hosted database and the hmda database created during initial setup.\n",
    "\n",
    "When Postgres installs, it creates a postgres user account. This account can be used, but it is a best practice to set up your own username as the postgres role is a superuser and can pose some security risks to your database."
   ]
  },
  {
   "cell_type": "code",
   "execution_count": null,
   "metadata": {},
   "outputs": [],
   "source": [
    "#Establish connection parameters\n",
    "#If you have established a username and password, change user and password below to your own username and password.\n",
    "connection_params = {\"user\":\"postgres\", \n",
    "                     \"password\":\"\", \n",
    "                     \"dbname\":\"hmda\", \n",
    "                     \"host\":\"localhost\"}"
   ]
  },
  {
   "cell_type": "code",
   "execution_count": null,
   "metadata": {},
   "outputs": [],
   "source": [
    "def connect(params):\n",
    "    \"\"\"\n",
    "    This function accepts a dictionary of connection parameters that must include:\n",
    "    - user: the username to be used for the database session\n",
    "    - password: the user's password\n",
    "    - dbname: the name of the database for connection\n",
    "    - host: the host location of the database\n",
    "    \"\"\"\n",
    "    #attempt a connection with the supplied parameters\n",
    "    try:\n",
    "        conn = psycopg2.connect(**params)\n",
    "        print(\"I'm connected\") #print a success message\n",
    "        return conn.cursor() #return a cursor object\n",
    "    except psycopg2.Error as e: \n",
    "        print(\"I am unable to connect to the database: \", e) #print a fail message and the error, if any"
   ]
  },
  {
   "cell_type": "code",
   "execution_count": null,
   "metadata": {},
   "outputs": [],
   "source": [
    "#Test the connection function, if everything is correct, it will print \"I'm connected.\"\n",
    "cur = connect(params=connection_params)\n",
    "#Close the cursor. This is important as open cursors can interfere with updates to data tables.\n",
    "cur.close()\n",
    "\n",
    "#When using Jupyter, it is best to open and close the cursor in the same code cell. \n",
    "#If there are coding errors that interrupt the execution, the cursor will need to be reestablished. \n"
   ]
  },
  {
   "cell_type": "markdown",
   "metadata": {},
   "source": [
    "### Establishing a SQL Command String\n",
    "In Python, SQL commands are handled as multi-line strings, denoted by three double quotes at the beginning \n",
    "and 3 double quotes at the end for example: \n",
    "``` \n",
    "\"\"\"SELECT  \n",
    "        things\n",
    "   FROM  \n",
    "        data table\"\"\" ```\n",
    "       \n",
    "These strings are then passed through a Psycopg2 cursor object (the connection function defined above) and executed by the Postgres database."
   ]
  },
  {
   "cell_type": "code",
   "execution_count": null,
   "metadata": {},
   "outputs": [],
   "source": [
    "#The SQL statement below will retrieve the year and count of institutions for the 2017 Transmittal Sheet.\n",
    "sql_command = \"\"\"SELECT \n",
    "                    activity_year, \n",
    "                    COUNT (*) AS filer_count\n",
    "                 FROM \n",
    "                    hmda_public.ts_2017 \n",
    "                 GROUP BY \n",
    "                    activity_year;\"\"\""
   ]
  },
  {
   "cell_type": "markdown",
   "metadata": {},
   "source": [
    "### Passing a SQL Query to the Database and Handling Results\n"
   ]
  },
  {
   "cell_type": "code",
   "execution_count": null,
   "metadata": {},
   "outputs": [],
   "source": [
    "cur = connect(connection_params) #Connects to the database using parameters established above. \n",
    "\n",
    "cur.execute(sql_command) #Uses the SQL statement above to pull year and count of filers for 2017. \n",
    "\n",
    "results = cur.fetchall() #Saves the query results.\n",
    "\n",
    "cur.close() #Closes the connection to the database. \n",
    "\n",
    "#Converts the output to a Pandas dataframe. \n",
    "#The cursor object contains information about the SQL query.\n",
    "#In this instance we use the column names from the data table to name the columns in our dataframe.\n",
    "#the use of the _df in naming variables indicates that it is of a dataframe type.\n",
    "results_df = pd.DataFrame(results, columns=[desc[0] for desc in cur.description])\n",
    "\n",
    "#Displays the top 10 rows of the dataframe.  \n",
    "results_df.head(10)"
   ]
  },
  {
   "cell_type": "markdown",
   "metadata": {},
   "source": [
    "### Variabalizing SQL Queries for Reuse\n",
    "\n",
    "Python strings can contain markers which enable substitution of values.   \n",
    "In the case below \"2017,\" has been replaced with {year}. This allows use of the .format() command to change the table reference for the SQL query."
   ]
  },
  {
   "cell_type": "code",
   "execution_count": null,
   "metadata": {},
   "outputs": [],
   "source": [
    "sql_command = \"\"\"SELECT \n",
    "                    activity_year, \n",
    "                    COUNT (*) AS filer_count\n",
    "                 FROM \n",
    "                    hmda_public.ts_{year} \n",
    "                 GROUP BY \n",
    "                    activity_year;\"\"\""
   ]
  },
  {
   "cell_type": "code",
   "execution_count": null,
   "metadata": {},
   "outputs": [],
   "source": [
    "cur = connect(connection_params) #Opens a database connection and instantiates a cursor object.\n",
    "results_list = [] #A list to hold returns from multiple queries.\n",
    "years = [2016, 2017] #The list of years for which data will be returned\n",
    "\n",
    "for year in years: #Iterates over each year in the list.\n",
    "    cur.execute(sql_command.format(year=year)) #Executes the SQL query replacing the {year} with a year from the list.\n",
    "    results = cur.fetchall() #Returns the query results.\n",
    "    #The results from the query will be returned as a list of tuples, for example: [('2016', 6762)]\n",
    "    \n",
    "    results_list.append(results[0]) #Appends the tuple, but not the list, from the results data.\n",
    "    \n",
    "cur.close() #Closes the database connection and removes the cursor object.\n",
    "#Converts the results_list into a Pandas dataframe using SQL names for column names.\n",
    "results_df = pd.DataFrame(results_list, columns=[desc[0] for desc in cur.description])\n",
    "results_df.head() #Shows the top 5 rows of the dataframe."
   ]
  },
  {
   "cell_type": "markdown",
   "metadata": {},
   "source": [
    "### Using a .SQL File Instead of a Multi-Line String\n",
    "Instead of using a multi-line string, a text file (usually with a .sql extension to denote the type of code) can be used.   \n",
    "The code below demonstrates how to load a SQL file and convert it to a string, and convert placeholders to the desired text."
   ]
  },
  {
   "cell_type": "code",
   "execution_count": null,
   "metadata": {},
   "outputs": [],
   "source": [
    "cur = connect(connection_params) #Establishes cursor object and connect to the database\n",
    "results_list = [] #Instantiates an empty list to hold query results.\n",
    "years = [2016, 2017] #List of years for the counts. \n",
    "\n",
    "#Sets the filepath and filename to be used as a SQL query.\n",
    "sql_file = \"sql_commands/1_filer_count_time_series.sql\" \n",
    "\n",
    "for year in years: #Iterates over the years list.\n",
    "    sql_base = \"\" #Creates a blank string to format into the query.\n",
    "    with open(sql_file) as in_sql: #Opens the specified file.\n",
    "        for line in in_sql.readlines(): #Reads all lines from the file.\n",
    "            #Concatenates lines and removes newline characters.\n",
    "            sql_base = sql_base + line.strip(\"\\n\") \n",
    "            \n",
    "    print(sql_base) #Prints the full SQL query, this is normally done only for debugging.\n",
    "\n",
    "    cur.execute(sql_base.format(year=year)) #Executes the query text against the database.\n",
    "    results = cur.fetchall() #Returns the query results.\n",
    "    results_list.append(results[0]) #Appends results to the list.\n",
    "\n",
    "#Converts the results_list into a Pandas dataframe with names pulled from the SQL query.\n",
    "results_df = pd.DataFrame(results_list, columns=[desc[0] for desc in cur.description])\n",
    "cur.close() #Closes the connection and remove the cursor object.\n",
    "results_df.head() #Shows the top 5 rows of the dataframe"
   ]
  },
  {
   "cell_type": "markdown",
   "metadata": {},
   "source": [
    "\n",
    "### Using a Function to Create a Timeseries of Counts\n",
    "The code below demonstrates a function that passes in a sql_command file, a start-year, and an end-year, producing a dataframe of output. The default for the function produces a time series between years 2004 and 2017.\n",
    "\n",
    "As shown below, the Pandas \"loc\" function may be used to reorder columns."
   ]
  },
  {
   "cell_type": "code",
   "execution_count": null,
   "metadata": {},
   "outputs": [],
   "source": [
    "def time_series(sql_file=None, cur=None, start=2004, end=2017):\n",
    "    \"\"\" \n",
    "    This function requires a path to a SQL and a cursor object. \n",
    "    The default start year is 2004, the default end year is 2017.\n",
    "    \n",
    "    This function will call the passed SQL file against each of the years \n",
    "    from start to end.\n",
    "    \n",
    "    The results will be returned as a Pandas dataframe.\n",
    "    \"\"\"\n",
    "    years = list(range(start, (end+1))) #Convert start and stop points to a list for iteration.\n",
    "    results_list = [] #Create an empty list to hold query results.\n",
    "    for year in years: #Iterate over desired years.\n",
    "        sql_base = \"\" #Create blank string to modify into SQL query.\n",
    "        with open(sql_file) as in_sql: #Open the SQL file.\n",
    "            for line in in_sql.readlines(): #Read all lines in the SQL file.\n",
    "                sql_base = sql_base + line.strip(\"\\n\") #Concatenate lines and remove newline characters.\n",
    "        cur.execute(sql_base.format(year=year)) #Replace the year placeholder and execute the query.\n",
    "        results = cur.fetchall() #Return results from the cursor.\n",
    "        results_list.append(results[0]) #Append results to list.\n",
    "    #Convert results list to a dataframe with column names from the query.\n",
    "    results_df = pd.DataFrame(results_list, columns=[desc[0] for desc in cur.description])\n",
    "    return results_df #return a dataframe of the results"
   ]
  },
  {
   "cell_type": "code",
   "execution_count": null,
   "metadata": {},
   "outputs": [],
   "source": [
    "#Using the function to return data.\n",
    "cur = connect(connection_params) #Create a database connection and cursor object.\n",
    "#Call the function.\n",
    "time_series_df = time_series(sql_file=\"sql_commands/1_filer_count_time_series.sql\" , cur=cur)\n",
    "time_series_df #Show the dataframe."
   ]
  },
  {
   "cell_type": "markdown",
   "metadata": {},
   "source": [
    "### Saving a Dataframe to a Pipe-Delimited File\n",
    "The dataframe created in the previous step can be saved to a file in a single command using the to_csv() command in Pandas.\n",
    "\n",
    "The first argument passed is the desired path and name of the file.\n",
    "If the passed directory path does not exist an error will be thrown. For programmatic creation of file paths, see documentation of the OS module. \n",
    "\n",
    "The delimiter used in file creation can be changed by passing sep=\"delimiter\".  \n",
    "By default, the dataframe index is saved to the file. To change this behavior pass index=False.\n",
    "    \n",
    "    "
   ]
  },
  {
   "cell_type": "code",
   "execution_count": null,
   "metadata": {},
   "outputs": [],
   "source": [
    "#Save the dataframe to a file\n",
    "time_series_df.to_csv(\"analysis_output/tables/1_filer_count_time_series.txt\", \n",
    "                      index=False, sep=\"|\")\n"
   ]
  },
  {
   "cell_type": "markdown",
   "metadata": {},
   "source": [
    "### Visualizing Data From DataFrames\n",
    "The below example will use Matplotlib (imported as plt) to do some basic visualization.  \n",
    "\n",
    "The Pandas library provides some basic plotting APIs built on top of Matplotlib. These APIs may be limited in functionality, but are useful for quick graphs. A basic example will be provided, but the majority of this example will focus on using Matplotlib.\n",
    "\n",
    "Plots are displayed inline in the Jupyter notebook and can also be saved to disk. The example below will save the chart to analysis_output/charts/1_filer_count_time_series.png."
   ]
  },
  {
   "cell_type": "code",
   "execution_count": null,
   "metadata": {},
   "outputs": [],
   "source": [
    "#A basic Pandas dataframe plot example using the time-series dataframe.\n",
    "time_series_df.plot(kind=\"bar\", color=\"blue\", figsize=(10,5), \n",
    "                    title=\"Number of HMDA Filers, 2004-2017\", \n",
    "                    x=\"activity_year\", y=\"count\")\n"
   ]
  },
  {
   "cell_type": "code",
   "execution_count": null,
   "metadata": {},
   "outputs": [],
   "source": [
    "#A Matplotlib bar chart example using the time-series dataframe.\n",
    "x = time_series_df['activity_year'] #Set the data values for the x axis.\n",
    "y = time_series_df['count'] #Set the data values for the y axis.\n",
    "\n",
    "fig = plt.figure(figsize=(10,5)) #Adjusts the size of the bar chart. \n",
    "plt.bar(x, y, color='blue') #Creat a bar chart of x and y and set the color as blue. \n",
    "plt.title(\"Number of HMDA Filers, 2004-2017\") #Set title of the chart. \n",
    "plt.xlabel(\"Year\") #Set x-axis label\n",
    "plt.ylabel(\"Filers\") #Set y-axis label.\n",
    "plt.xticks(x, x, rotation='45') #Set the x-tick labels to 45 degree rotation. \n",
    "\n",
    "#Save the graph output to a PNG file. \n",
    "fig.savefig('analysis_output/charts/1_filer_count_time_series.png') \n"
   ]
  },
  {
   "cell_type": "markdown",
   "metadata": {},
   "source": [
    "### Plotting Using a Function\n",
    "The same plot can be created using a function. Using a function allows standardization, reuse, and easy manipulation of set parameters."
   ]
  },
  {
   "cell_type": "code",
   "execution_count": null,
   "metadata": {},
   "outputs": [],
   "source": [
    "def bar_chart(x_data=None, y_data=None, title=\"Chart Title\", x_label=None, y_label=None, \n",
    "              color=\"blue\", figsize=(10,5)):\n",
    "    \"\"\"\n",
    "    This function requires two Pandas data series for x and y data.\n",
    "    Optionally: the x label, y label, color, title, and size may be set. \n",
    "\n",
    "    This function returns a bar chart with the specified parameters.\n",
    "    \"\"\"\n",
    "    if x_data is None or y_data is None:\n",
    "        print(\"No data passed.\")\n",
    "        return None\n",
    "    if x_label is None:\n",
    "        x_label = x_data.name\n",
    "    if y_label is None:\n",
    "            y_label = y_data.name\n",
    "\n",
    "    fig = plt.figure(figsize=figsize) #Sets size of the bar chart. \n",
    "    plt.bar(x_data, y_data, color=color) #Plots x and y and set the color.\n",
    "    plt.title(title) #Sets title of the chart.\n",
    "    plt.xlabel(x_label) #Sets x-axis label.\n",
    "    plt.ylabel(y_label) #Sets y-axis label. \n",
    "    plt.xticks(x_data, rotation='45') #Setting x-tick labels and rotating 45 degrees.  \n",
    "    return plt"
   ]
  },
  {
   "cell_type": "code",
   "execution_count": null,
   "metadata": {},
   "outputs": [],
   "source": [
    "#Create a bar chart using the function defined above.\n",
    "bar_chart(x_data=time_series_df['activity_year'], y_data=time_series_df['count'],\n",
    "         title=\"Number of HMDA Filers, 2004-2017\", figsize=(10,5))"
   ]
  }
 ],
 "metadata": {
  "kernelspec": {
   "display_name": "Python 3",
   "language": "python",
   "name": "python3"
  },
  "language_info": {
   "codemirror_mode": {
    "name": "ipython",
    "version": 3
   },
   "file_extension": ".py",
   "mimetype": "text/x-python",
   "name": "python",
   "nbconvert_exporter": "python",
   "pygments_lexer": "ipython3",
   "version": "3.7.0"
  }
 },
 "nbformat": 4,
 "nbformat_minor": 2
}
