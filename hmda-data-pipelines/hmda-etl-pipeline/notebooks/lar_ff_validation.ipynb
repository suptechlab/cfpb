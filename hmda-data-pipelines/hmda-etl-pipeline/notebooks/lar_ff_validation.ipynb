{
 "cells": [
  {
   "cell_type": "code",
   "execution_count": 51,
   "metadata": {},
   "outputs": [],
   "source": [
    "import pandas as pd"
   ]
  },
  {
   "cell_type": "code",
   "execution_count": 52,
   "metadata": {},
   "outputs": [
    {
     "name": "stdout",
     "output_type": "stream",
     "text": [
      "Working on legacy\n"
     ]
    }
   ],
   "source": [
    "cols = [1,2] + list(range(3, 20))\n",
    "\n",
    "reg_lar_2022_etl = pd.read_csv(\"/Users/bienstocke/Documents/Github/kedro-etl-pipeline/hmda-etl-pipeline/data/2022/lar/02_data_publication/reg_lar.txt\", \n",
    "                               sep=\"|\", header=None, usecols=cols, dtype=str, na_filter=False)\n",
    "reg_lar_2022_etl[\"pk\"] = reg_lar_2022_etl[1] + reg_lar_2022_etl[2]\n",
    "reg_lar_2022_etl.drop_duplicates(subset=\"pk\", keep=False, inplace=True)\n",
    "reg_lar_2022_etl.set_index(\"pk\", inplace=True)\n",
    "\n",
    "print(\"Working on legacy\")\n",
    "reg_lar_2022_legacy = pd.read_csv(\"/Users/bienstocke/Desktop/2023-08-19-2022_lar.txt\", \n",
    "                               sep=\"|\", header=None, usecols=cols, dtype=str, na_filter=False)\n",
    "reg_lar_2022_legacy[\"pk\"] = reg_lar_2022_legacy[1] + reg_lar_2022_legacy[2]\n",
    "reg_lar_2022_legacy.drop_duplicates(subset=\"pk\", keep=False, inplace=True)\n",
    "reg_lar_2022_legacy.set_index(\"pk\", inplace=True)"
   ]
  },
  {
   "cell_type": "code",
   "execution_count": 45,
   "metadata": {},
   "outputs": [
    {
     "data": {
      "text/plain": [
       "16078252"
      ]
     },
     "execution_count": 45,
     "metadata": {},
     "output_type": "execute_result"
    }
   ],
   "source": [
    "overlapping_pks = reg_lar_2022_etl.index.intersection(reg_lar_2022_legacy.index)\n",
    "overlapping_pks.size"
   ]
  },
  {
   "cell_type": "code",
   "execution_count": 53,
   "metadata": {},
   "outputs": [
    {
     "name": "stdout",
     "output_type": "stream",
     "text": [
      "(16078252, 19)\n",
      "(16078252, 19)\n"
     ]
    }
   ],
   "source": [
    "leg_subset = reg_lar_2022_legacy.loc[overlapping_pks, :]\n",
    "etl_subset = reg_lar_2022_etl.loc[overlapping_pks, :]\n",
    "\n",
    "print(leg_subset.shape)\n",
    "print(etl_subset.shape)"
   ]
  },
  {
   "cell_type": "code",
   "execution_count": 54,
   "metadata": {},
   "outputs": [
    {
     "data": {
      "text/plain": [
       "1            0\n",
       "2            0\n",
       "3      1553063\n",
       "4            0\n",
       "5            0\n",
       "6            0\n",
       "7            0\n",
       "8            0\n",
       "9     15465375\n",
       "10           0\n",
       "11           0\n",
       "12           0\n",
       "13           0\n",
       "14           0\n",
       "15           0\n",
       "16           0\n",
       "17           0\n",
       "18           0\n",
       "19           0\n",
       "dtype: int64"
      ]
     },
     "execution_count": 54,
     "metadata": {},
     "output_type": "execute_result"
    }
   ],
   "source": [
    "eq_df = leg_subset != etl_subset\n",
    "eq_df.sum()"
   ]
  },
  {
   "cell_type": "code",
   "execution_count": 57,
   "metadata": {},
   "outputs": [
    {
     "data": {
      "text/plain": [
       "pk\n",
       "7H6GLXDRUGQFU57RNE975493008NWHQT1R22C024414578461768        249300.0\n",
       "7H6GLXDRUGQFU57RNE975493008NWHQT1R22C024414579930348        332600.0\n",
       "7H6GLXDRUGQFU57RNE975493008NWHQT1R22C024414581746382        143500.0\n",
       "7H6GLXDRUGQFU57RNE975493008NWHQT1R22C024414582338761        280000.0\n",
       "7H6GLXDRUGQFU57RNE975493008NWHQT1R22C024414582383672        247000.0\n",
       "7H6GLXDRUGQFU57RNE975493000YNV8IX4VD3X12414672154           268964.0\n",
       "7H6GLXDRUGQFU57RNE975493000YNV8IX4VD3X12415001663           548078.0\n",
       "7H6GLXDRUGQFU57RNE97549300OV8NE5ZPEPMF52415022034538297    1062835.4\n",
       "7H6GLXDRUGQFU57RNE97549300MGPZBLQDIL7538415050439324       1134750.0\n",
       "7H6GLXDRUGQFU57RNE975493000YNV8IX4VD3X12415077905           272158.0\n",
       "Name: 9, dtype: object"
      ]
     },
     "execution_count": 57,
     "metadata": {},
     "output_type": "execute_result"
    }
   ],
   "source": [
    "leg_subset.loc[eq_df[9], 9].head(10)"
   ]
  },
  {
   "cell_type": "code",
   "execution_count": 58,
   "metadata": {},
   "outputs": [
    {
     "data": {
      "text/plain": [
       "pk\n",
       "7H6GLXDRUGQFU57RNE975493008NWHQT1R22C024414578461768        249300.00\n",
       "7H6GLXDRUGQFU57RNE975493008NWHQT1R22C024414579930348        332600.00\n",
       "7H6GLXDRUGQFU57RNE975493008NWHQT1R22C024414581746382        143500.00\n",
       "7H6GLXDRUGQFU57RNE975493008NWHQT1R22C024414582338761        280000.00\n",
       "7H6GLXDRUGQFU57RNE975493008NWHQT1R22C024414582383672        247000.00\n",
       "7H6GLXDRUGQFU57RNE975493000YNV8IX4VD3X12414672154           268964.00\n",
       "7H6GLXDRUGQFU57RNE975493000YNV8IX4VD3X12415001663           548078.00\n",
       "7H6GLXDRUGQFU57RNE97549300OV8NE5ZPEPMF52415022034538297    1062835.40\n",
       "7H6GLXDRUGQFU57RNE97549300MGPZBLQDIL7538415050439324       1134750.00\n",
       "7H6GLXDRUGQFU57RNE975493000YNV8IX4VD3X12415077905           272158.00\n",
       "Name: 9, dtype: object"
      ]
     },
     "execution_count": 58,
     "metadata": {},
     "output_type": "execute_result"
    }
   ],
   "source": [
    "etl_subset.loc[eq_df[9], 9].head(10)"
   ]
  },
  {
   "cell_type": "code",
   "execution_count": null,
   "metadata": {},
   "outputs": [],
   "source": []
  }
 ],
 "metadata": {
  "kernelspec": {
   "display_name": "kedro_pipeline",
   "language": "python",
   "name": "python3"
  },
  "language_info": {
   "codemirror_mode": {
    "name": "ipython",
    "version": 3
   },
   "file_extension": ".py",
   "mimetype": "text/x-python",
   "name": "python",
   "nbconvert_exporter": "python",
   "pygments_lexer": "ipython3",
   "version": "3.9.16"
  },
  "orig_nbformat": 4
 },
 "nbformat": 4,
 "nbformat_minor": 2
}
