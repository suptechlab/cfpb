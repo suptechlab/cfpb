{
 "cells": [
  {
   "cell_type": "markdown",
   "metadata": {},
   "source": [
    "# Verifying MLAR Consistency\n",
    "\n",
    "It looks like the legacy MLAR dataset and the version produced by the ETL pipeline are almost identical. The only identifiable difference is rounding of the `tract_to_msa_income_percentage` field. There is a difference of about 0.003 in the means across legacy and v2. I can live with that."
   ]
  },
  {
   "cell_type": "code",
   "execution_count": 1,
   "metadata": {},
   "outputs": [],
   "source": [
    "import pandas as pd"
   ]
  },
  {
   "cell_type": "markdown",
   "metadata": {},
   "source": [
    "## Load a sample of the legacy MLAR dataset (2022)\n",
    "\n",
    "Only going to load 5 million rows and force the datatype to string for all. I don't want Pandas doing any processing on the raw datasets. I'm looking to compare string literals."
   ]
  },
  {
   "cell_type": "code",
   "execution_count": 2,
   "metadata": {},
   "outputs": [
    {
     "data": {
      "text/plain": [
       "(328053, 99)"
      ]
     },
     "execution_count": 2,
     "metadata": {},
     "output_type": "execute_result"
    }
   ],
   "source": [
    "legacy_22_mlar = pd.read_csv(\"/Users/bienstocke/Desktop/2022_lar.txt\", \n",
    "                             sep=\"|\", \n",
    "                             nrows=5e6, \n",
    "                             dtype=str,\n",
    "                             na_filter=False)\n",
    "\n",
    "legacy_subset = legacy_22_mlar[legacy_22_mlar.lei == \"RVDPPPGHCGZ40J4VQ731\"].copy()\n",
    "legacy_subset.shape"
   ]
  },
  {
   "cell_type": "markdown",
   "metadata": {},
   "source": [
    "## Load the ETL Pipeline MLAR file\n",
    "\n",
    "Only read those records that correspond with the above LEI. Reading in chunks because it won't fit in memory. Only going to include a single LEI"
   ]
  },
  {
   "cell_type": "code",
   "execution_count": 3,
   "metadata": {},
   "outputs": [
    {
     "data": {
      "text/plain": [
       "(328053, 99)"
      ]
     },
     "execution_count": 3,
     "metadata": {},
     "output_type": "execute_result"
    }
   ],
   "source": [
    "etl_subset_holder = []\n",
    "\n",
    "for chunk in pd.read_csv(\"/Users/bienstocke/Documents/Github/kedro-etl-pipeline/hmda-etl-pipeline/data/2022/modified_lar/02_data_publication/2022_lar.txt\",\n",
    "                         sep=\"|\",\n",
    "                         chunksize=1e6,\n",
    "                         dtype=str,\n",
    "                         na_filter=False):\n",
    "    etl_subset_holder.append(chunk[chunk.lei == \"RVDPPPGHCGZ40J4VQ731\"])\n",
    "\n",
    "etl_subset = pd.concat(etl_subset_holder)\n",
    "etl_subset.shape"
   ]
  },
  {
   "cell_type": "markdown",
   "metadata": {},
   "source": [
    "## Verify column names and ordering"
   ]
  },
  {
   "cell_type": "code",
   "execution_count": 4,
   "metadata": {},
   "outputs": [
    {
     "data": {
      "text/plain": [
       "array([ True,  True,  True,  True,  True,  True,  True,  True,  True,\n",
       "        True,  True,  True,  True,  True,  True,  True,  True,  True,\n",
       "        True,  True,  True,  True,  True,  True,  True,  True,  True,\n",
       "        True,  True,  True,  True,  True,  True,  True,  True,  True,\n",
       "        True,  True,  True,  True,  True,  True,  True,  True,  True,\n",
       "        True,  True,  True,  True,  True,  True,  True,  True,  True,\n",
       "        True,  True,  True,  True,  True,  True,  True,  True,  True,\n",
       "        True,  True,  True,  True,  True,  True,  True,  True,  True,\n",
       "        True,  True,  True,  True,  True,  True,  True,  True,  True,\n",
       "        True,  True,  True,  True,  True,  True,  True,  True,  True,\n",
       "        True,  True,  True,  True,  True,  True,  True,  True,  True])"
      ]
     },
     "execution_count": 4,
     "metadata": {},
     "output_type": "execute_result"
    }
   ],
   "source": [
    "etl_subset.columns == legacy_subset.columns"
   ]
  },
  {
   "cell_type": "markdown",
   "metadata": {},
   "source": [
    "## Examine the unique values within each column\n",
    "\n",
    "We don't have any way of (easily) aligning the legacy and new datasets. Let's instead take a look at the unique values appearing in each columns. I make the assumption that if two columns have the exact same set of values, the corresponding values within each row will align. The possiblity that they're identical but scrambled seems pretty low so I'm not going to worry about that. \n",
    "\n",
    "The following analysis indicates that there are four columns that do not overlap form a values perspective."
   ]
  },
  {
   "cell_type": "code",
   "execution_count": 5,
   "metadata": {},
   "outputs": [
    {
     "data": {
      "text/html": [
       "<div>\n",
       "<style scoped>\n",
       "    .dataframe tbody tr th:only-of-type {\n",
       "        vertical-align: middle;\n",
       "    }\n",
       "\n",
       "    .dataframe tbody tr th {\n",
       "        vertical-align: top;\n",
       "    }\n",
       "\n",
       "    .dataframe thead th {\n",
       "        text-align: right;\n",
       "    }\n",
       "</style>\n",
       "<table border=\"1\" class=\"dataframe\">\n",
       "  <thead>\n",
       "    <tr style=\"text-align: right;\">\n",
       "      <th></th>\n",
       "      <th>overlap_count</th>\n",
       "      <th>only_in_etl_count</th>\n",
       "    </tr>\n",
       "  </thead>\n",
       "  <tbody>\n",
       "    <tr>\n",
       "      <th>tract_minority_population_percent</th>\n",
       "      <td>8666</td>\n",
       "      <td>963</td>\n",
       "    </tr>\n",
       "    <tr>\n",
       "      <th>tract_to_msa_income_percentage</th>\n",
       "      <td>0</td>\n",
       "      <td>15695</td>\n",
       "    </tr>\n",
       "  </tbody>\n",
       "</table>\n",
       "</div>"
      ],
      "text/plain": [
       "                                   overlap_count  only_in_etl_count\n",
       "tract_minority_population_percent           8666                963\n",
       "tract_to_msa_income_percentage                 0              15695"
      ]
     },
     "execution_count": 5,
     "metadata": {},
     "output_type": "execute_result"
    }
   ],
   "source": [
    "holder = {}\n",
    "\n",
    "for column in etl_subset:\n",
    "    \n",
    "    unique_values_etl = set(etl_subset[column].unique())\n",
    "    unique_values_legacy = set(legacy_subset[column].unique())\n",
    "    \n",
    "    common_record_count = len(unique_values_etl.intersection(unique_values_legacy))\n",
    "    only_in_etl = len(unique_values_etl.difference(unique_values_legacy))\n",
    "    \n",
    "    holder[column] = {\"overlap_count\": common_record_count, \n",
    "                      \"only_in_etl_count\": only_in_etl}\n",
    "    \n",
    "difference_count_by_column = pd.DataFrame(holder).transpose()\n",
    "difference_count_by_column.query(\"only_in_etl_count > 0\")\n",
    "\n",
    "    "
   ]
  },
  {
   "cell_type": "code",
   "execution_count": 9,
   "metadata": {},
   "outputs": [],
   "source": [
    "column = \"tract_minority_population_percent\"\n",
    "unique_values_etl = set(etl_subset[column].unique().astype(float))\n",
    "unique_values_legacy = set(legacy_subset[column].unique().astype(float))\n",
    "\n",
    "common_records = list(unique_values_etl.intersection(unique_values_legacy))\n",
    "only_in_etl = list(unique_values_etl.difference(unique_values_legacy))\n",
    "only_in_legacy = list(unique_values_legacy.difference(unique_values_etl))"
   ]
  },
  {
   "cell_type": "code",
   "execution_count": 10,
   "metadata": {},
   "outputs": [
    {
     "data": {
      "text/plain": [
       "40.49404303572898"
      ]
     },
     "execution_count": 10,
     "metadata": {},
     "output_type": "execute_result"
    }
   ],
   "source": [
    "etl_subset[column].astype(float).mean()"
   ]
  },
  {
   "cell_type": "code",
   "execution_count": 11,
   "metadata": {},
   "outputs": [
    {
     "data": {
      "text/plain": [
       "40.49404303572898"
      ]
     },
     "execution_count": 11,
     "metadata": {},
     "output_type": "execute_result"
    }
   ],
   "source": [
    "legacy_subset[column].astype(float).mean()"
   ]
  }
 ],
 "metadata": {
  "kernelspec": {
   "display_name": "kedro_pipeline",
   "language": "python",
   "name": "python3"
  },
  "language_info": {
   "codemirror_mode": {
    "name": "ipython",
    "version": 3
   },
   "file_extension": ".py",
   "mimetype": "text/x-python",
   "name": "python",
   "nbconvert_exporter": "python",
   "pygments_lexer": "ipython3",
   "version": "3.9.16"
  },
  "orig_nbformat": 4
 },
 "nbformat": 4,
 "nbformat_minor": 2
}
