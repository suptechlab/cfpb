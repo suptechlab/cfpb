{
 "cells": [
  {
   "cell_type": "code",
   "execution_count": 1,
   "metadata": {},
   "outputs": [],
   "source": [
    "import yaml\n",
    "import json\n",
    "import pandas as pd\n",
    "import os\n",
    "from os import listdir\n",
    "from os.path import isfile, join\n",
    "\n",
    "from rules_engine import rules_engine\n",
    "import utils\n",
    "\n",
    "pd.options.display.max_columns = 999"
   ]
  },
  {
   "cell_type": "code",
   "execution_count": 2,
   "metadata": {},
   "outputs": [],
   "source": [
    "with open('configurations/clean_file_config.yaml') as f:\n",
    "\t# use safe_load instead load\n",
    "\tdata_map = yaml.safe_load(f)\n",
    "file_length = data_map['file_length']['value']\n"
   ]
  },
  {
   "cell_type": "code",
   "execution_count": 3,
   "metadata": {},
   "outputs": [
    {
     "name": "stdout",
     "output_type": "stream",
     "text": [
      "/Users/roellk/hmda/hmda-test-files/python\r\n"
     ]
    }
   ],
   "source": [
    "use_cols = ['name', 'metDivName', 'countyFips', 'geoIdMsa', 'metDivFp', 'smallCounty', 'tracts', 'stateCode']\n",
    "cbsa_cols = ['name', 'metDivName', 'state', 'countyFips', 'county', 'tracts','geoIdMsa', 'metDivFp', 'smallCounty', \n",
    "\t\t\t 'stateCode', 'tractDecimal']\n",
    "cbsas = pd.read_csv('../dependencies/tract_to_cbsa_2015.txt', usecols=use_cols, delimiter='|', \n",
    "\t\t\t\t\theader=None, names=cbsa_cols, dtype=str) #load tract to CBSA data from platform file\n",
    "cbsas[\"tractFips\"] = cbsas.countyFips + cbsas.tracts\n",
    "counties = list(cbsas.countyFips)\n",
    "tracts = list(cbsas.tractFips)\n",
    "small_counties = list(cbsas.countyFips[cbsas.smallCounty==\"1\"])\n",
    "#load schemas for LAR and transmittal sheet\n",
    "#schemas contain valid enumerations, including NA values, for each field in the dataset\n",
    "lar_schema_df = pd.DataFrame(json.load(open(\"../schemas/lar_schema.json\", \"r\")))\n",
    "ts_schema_df = pd.DataFrame(json.load(open(\"../schemas/ts_schema.json\", \"r\")))\n",
    "!pwd"
   ]
  },
  {
   "cell_type": "code",
   "execution_count": 6,
   "metadata": {},
   "outputs": [
    {
     "name": "stderr",
     "output_type": "stream",
     "text": [
      "/Users/roellk/homebrew/lib/python3.6/site-packages/pandas/core/generic.py:4401: SettingWithCopyWarning: \n",
      "A value is trying to be set on a copy of a slice from a DataFrame.\n",
      "Try using .loc[row_indexer,col_indexer] = value instead\n",
      "\n",
      "See the caveats in the documentation: http://pandas.pydata.org/pandas-docs/stable/indexing.html#indexing-view-versus-copy\n",
      "  self[name] = value\n"
     ]
    },
    {
     "data": {
      "text/html": [
       "<div>\n",
       "<style scoped>\n",
       "    .dataframe tbody tr th:only-of-type {\n",
       "        vertical-align: middle;\n",
       "    }\n",
       "\n",
       "    .dataframe tbody tr th {\n",
       "        vertical-align: top;\n",
       "    }\n",
       "\n",
       "    .dataframe thead th {\n",
       "        text-align: right;\n",
       "    }\n",
       "</style>\n",
       "<table border=\"1\" class=\"dataframe\">\n",
       "  <thead>\n",
       "    <tr style=\"text-align: right;\">\n",
       "      <th></th>\n",
       "      <th>edit_name</th>\n",
       "      <th>fail_count</th>\n",
       "      <th>fields</th>\n",
       "      <th>row_ids</th>\n",
       "      <th>row_type</th>\n",
       "      <th>status</th>\n",
       "    </tr>\n",
       "  </thead>\n",
       "  <tbody>\n",
       "  </tbody>\n",
       "</table>\n",
       "</div>"
      ],
      "text/plain": [
       "Empty DataFrame\n",
       "Columns: [edit_name, fail_count, fields, row_ids, row_type, status]\n",
       "Index: []"
      ]
     },
     "execution_count": 6,
     "metadata": {},
     "output_type": "execute_result"
    }
   ],
   "source": [
    "\n",
    "file = \"v662_1.txt\"\n",
    "#file = \"clean_file_100_rows.txt\"\n",
    "if file[0] == \"v\":\n",
    "    file_type = \"validity\"\n",
    "elif file[0] == \"s\":\n",
    "    file_type = \"syntax\"\n",
    "elif file[0] == \"q\":\n",
    "    file_type = \"quality\"\n",
    "else:\n",
    "    file_type = \"clean\"\n",
    "path = \"../edits_files/\"+file_type+\"/\"\n",
    "if file_type == \"clean\":\n",
    "    path = \"../edits_files/\"\n",
    "\n",
    "#lar validator checks a dataframe and returns a JSON with generate_error_files\n",
    "checker = rules_engine(lar_schema=lar_schema_df, ts_schema=ts_schema_df, cbsa_data=cbsas)#tracts=tracts, \n",
    "#                       counties=counties, small_counties=small_counties) \n",
    "#load data to checker\n",
    "ts_df, lar_df = utils.read_data_file(path=path, data_file=file)\n",
    "checker.load_data_frames(ts_df, lar_df)\n",
    "for func in dir(checker):\n",
    "    if func[:1] in (\"s\", \"v\", \"q\") and func[1:4].isdigit()==True:\n",
    "        #print(\"applying:\", func)\n",
    "        getattr(checker, func)()\n",
    "res_df = pd.DataFrame(checker.results)\n",
    "res_df[(res_df.status==\"failed\")&(res_df.edit_name==file[:-4])]"
   ]
  },
  {
   "cell_type": "code",
   "execution_count": null,
   "metadata": {},
   "outputs": [],
   "source": [
    "#get all edit test files in single list\n",
    "val_path = \"../edits_files/validity/\"\n",
    "syn_path = \"../edits_files/syntax/\"\n",
    "val_files = [f for f in listdir(val_path) if isfile(join(val_path, f)) and f[0]==\"v\"] #get list of only files\n",
    "syn_files = [f for f in listdir(syn_path) if isfile(join(syn_path, f)) and f[0]==\"s\"]"
   ]
  },
  {
   "cell_type": "markdown",
   "metadata": {},
   "source": [
    "#check validity test files for error rate\n",
    "for file in val_files:\n",
    "    print(file)\n",
    "    #lar validator checks a dataframe and returns a JSON with generate_error_files\n",
    "    checker = rules_engine(lar_schema=lar_schema_df, ts_schema=ts_schema_df, cbsa_data=cbsas)#tracts=tracts, counties=counties)\n",
    "    #load data to checker\n",
    "    ts_df, lar_df = utils.read_data_file(path=val_path, data_file=file)\n",
    "    checker.load_data_frames(ts_df, lar_df)\n",
    "    for func in dir(checker):\n",
    "        if func[:1] in (\"s\", \"v\") and func[1:4].isdigit()==True:\n",
    "            getattr(checker, func)()\n",
    "    res_df = pd.DataFrame(checker.results)\n",
    "    res_df = res_df[(res_df.edit_name==file[:-4])] #set res_df for only the edit in the file name\n",
    "    if res_df.row_type.iloc[0]==\"TS\" and res_df.status.iloc[0]==\"failed\":\n",
    "        print(\"file is good\")\n",
    "        \n",
    "    if res_df.row_type[(res_df.edit_name==file[:-4])].iloc[0] == \"LAR\" and \\\n",
    "       res_df.fail_count[(res_df.edit_name==file[:-4])].iloc[0] != file_length:\n",
    "        print(\"WARNING BOOOOOP\", len(res_df.fail_count[res_df.edit_name==file[:-4]]))\n",
    "    elif res_df.row_type[(res_df.edit_name==file[:-4])].iloc[0] == \"LAR\" and res_df.fail_count[(res_df.edit_name==file[:-4])].iloc[0] == file_length:\n",
    "        print(\"file is good\")\n",
    "    print()"
   ]
  },
  {
   "cell_type": "markdown",
   "metadata": {},
   "source": [
    "#check syntax test files for error rate\n",
    "for file in syn_files:\n",
    "    print(file)\n",
    "    #lar validator checks a dataframe and returns a JSON with generate_error_files\n",
    "    checker = rules_engine(lar_schema=lar_schema_df, ts_schema=ts_schema_df, tracts=tracts, counties=counties)\n",
    "    #load data to checker\n",
    "    ts_df, lar_df = utils.read_data_file(path=syn_path, data_file=file)\n",
    "    checker.load_data_frames(ts_df, lar_df)\n",
    "    for func in dir(checker):\n",
    "        if func[:1] in (\"s\", \"v\") and func[1:4].isdigit()==True:\n",
    "            getattr(checker, func)()\n",
    "    res_df = pd.DataFrame(checker.results)\n",
    "    res_df = res_df[(res_df.edit_name==file[:-4])] #set res_df for only the edit in the file name\n",
    "    \n",
    "    if res_df.row_type.iloc[0]==\"TS\" and res_df.status.iloc[0]==\"failed\":\n",
    "        print(\"file is good\")\n",
    "    if res_df.row_type[(res_df.edit_name==file[:-4])].iloc[0] == \"LAR\":\n",
    "        fail_count = res_df.fail_count[(res_df.edit_name==file[:-4])].iloc[0]\n",
    "    \n",
    "    if row_type == \"LAR\" and int(fail_count) != file_length:\n",
    "        print(\"WARNING BOOOOOP\\n\", \"*\"*100)\n",
    "    else:\n",
    "        print(\"file is good\")\n",
    "    print()"
   ]
  },
  {
   "cell_type": "code",
   "execution_count": null,
   "metadata": {},
   "outputs": [],
   "source": [
    "#load CBSA data for geography testing edits\n",
    "use_cols = ['name', 'metDivName', 'countyFips', 'geoIdMsa', 'metDivFp', 'smallCounty', 'tracts']\n",
    "cbsa_cols = ['name', 'metDivName', 'state', 'countyFips', 'county', 'tracts','geoIdMsa', 'metDivFp', 'smallCounty', \n",
    "'stateCode', 'tractDecimal']\n",
    "cbsa_data = pd.read_csv('../dependencies/tract_to_cbsa_2015.txt', usecols=use_cols, delimiter='|', \n",
    "header=None, names=cbsa_cols, dtype=object) #load tract to CBSA data from platform file\n"
   ]
  },
  {
   "cell_type": "code",
   "execution_count": null,
   "metadata": {},
   "outputs": [],
   "source": [
    "len(lar_df[lar_df.lei.iloc[0]==lar_df.uli.apply(lambda x: x[:20])])"
   ]
  },
  {
   "cell_type": "code",
   "execution_count": null,
   "metadata": {},
   "outputs": [],
   "source": [
    "row_ids = list(res_df.row_ids[(res_df.status==\"failed\")&(res_df.edit_name==file[:-4])])\n",
    "#for row_id in row_ids[0]:\n",
    "#    print(row_id, len(row_id), row_id[:20]==lar_df.lei.iloc[0])"
   ]
  },
  {
   "cell_type": "code",
   "execution_count": null,
   "metadata": {},
   "outputs": [],
   "source": [
    "row_ids = list(res_df.row_ids[(res_df.status==\"failed\")&(res_df.edit_name==file[:-4])])\n",
    "for index, row in lar_df[~lar_df.uli.isin(row_ids[0])].iterrows():\n",
    "#    print(row.uli, len(row.uli), type(row.uli), row.uli[:20]==ts_df.lei.iloc[0])\n",
    "    print(row.uli, len(row.uli))"
   ]
  },
  {
   "cell_type": "code",
   "execution_count": null,
   "metadata": {},
   "outputs": [],
   "source": [
    "lar_df[lar_df.app_score_name.isin([\"NA\",\"-1\",\"\"])]"
   ]
  },
  {
   "cell_type": "code",
   "execution_count": null,
   "metadata": {},
   "outputs": [],
   "source": []
  }
 ],
 "metadata": {
  "kernelspec": {
   "display_name": "Python 3",
   "language": "python",
   "name": "python3"
  },
  "language_info": {
   "codemirror_mode": {
    "name": "ipython",
    "version": 3
   },
   "file_extension": ".py",
   "mimetype": "text/x-python",
   "name": "python",
   "nbconvert_exporter": "python",
   "pygments_lexer": "ipython3",
   "version": "3.7.0"
  }
 },
 "nbformat": 4,
 "nbformat_minor": 2
}
